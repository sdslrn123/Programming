{
  "nbformat": 4,
  "nbformat_minor": 0,
  "metadata": {
    "colab": {
      "name": "Shortcuts.ipynb",
      "provenance": [],
      "authorship_tag": "ABX9TyPR1OPkZ/Th8AdsmAiVFGAc",
      "include_colab_link": true
    },
    "kernelspec": {
      "name": "python3",
      "display_name": "Python 3"
    }
  },
  "cells": [
    {
      "cell_type": "markdown",
      "metadata": {
        "id": "view-in-github",
        "colab_type": "text"
      },
      "source": [
        "<a href=\"https://colab.research.google.com/github/sdslrn123/Programming/blob/master/Shortcuts.ipynb\" target=\"_parent\"><img src=\"https://colab.research.google.com/assets/colab-badge.svg\" alt=\"Open In Colab\"/></a>"
      ]
    },
    {
      "cell_type": "markdown",
      "metadata": {
        "id": "d5WjD-srgPZA",
        "colab_type": "text"
      },
      "source": [
        "# ***Cool Shortcuts***"
      ]
    },
    {
      "cell_type": "markdown",
      "metadata": {
        "id": "UNwuiRcWhTQA",
        "colab_type": "text"
      },
      "source": [
        "*References*  \n",
        "https://medium.com/@tuewithmorris/google-colab-notebooks-keyboard-shortcuts-aa6a008fb91b\n",
        "\n",
        "The above is a great article.\n",
        "\n",
        "Tips  \n",
        "2 spaces means newline\n",
        "\n",
        "***Notation***  \n",
        "Ctrl + M H   \n",
        "Hold onto Ctrl and M then let go of M and while still pressing Ctrl press H \n"
      ]
    },
    {
      "cell_type": "markdown",
      "metadata": {
        "id": "2fhOD8-3hrJ3",
        "colab_type": "text"
      },
      "source": [
        "#Colab Shortcuts\n",
        "\n"
      ]
    },
    {
      "cell_type": "code",
      "metadata": {
        "id": "RnKXFCXmjgnY",
        "colab_type": "code",
        "colab": {
          "base_uri": "https://localhost:8080/",
          "height": 177
        },
        "outputId": "36f30491-44ba-4b0d-808c-f6fe7a2d15b7"
      },
      "source": [
        "import pandas as pd\n",
        "df=pd.read_csv(\"https://gist.githubusercontent.com/morriswong/35f90d593e901bf131a72631a6127e53/raw/322fe8f689fcb57b592698e26b9050014cda8da8/Google%20Colab%20Keyboards%20shortcuts.csv\")\n",
        "df=df.reset_index(drop=True)\n",
        "#df=df.reset_index() # return back the original index\n",
        "print (df)"
      ],
      "execution_count": 70,
      "outputs": [
        {
          "output_type": "stream",
          "text": [
            "                   Actions          Colab        Jupyter\n",
            "0  show keyboard shortcuts   Ctrl/Cmd M H             H \n",
            "1   Insert code cell above   Ctrl/Cmd M A              A\n",
            "2   Insert code cell below   Ctrl/Cmd M B              B\n",
            "3    Delete cell/selection   Ctrl/Cmd M D             DD\n",
            "4      Interrupt execution   Ctrl/Cmd M I             II\n",
            "5     Convert to code cell   Ctrl/Cmd M Y              Y\n",
            "6     Convert to text cell   Ctrl/Cmd M M              M\n",
            "7          Split at cursor   Ctrl/Cmd M -   Ctrl Shift -\n"
          ],
          "name": "stdout"
        }
      ]
    },
    {
      "cell_type": "code",
      "metadata": {
        "id": "3FJzoS52jkT-",
        "colab_type": "code",
        "colab": {
          "base_uri": "https://localhost:8080/",
          "height": 965
        },
        "outputId": "8389abd7-8dc1-4ba5-b9cb-2a4728fce8d3"
      },
      "source": [
        "#Create additional rows\n",
        "#Defining a dictionary\n",
        "\n",
        "\n",
        "\n",
        "df2 = pd.DataFrame(data={'Actions':[\"Run Cell\",\"Run and Move to Next Cell\",\"Run and Insert New Code Cell\"],\n",
        "                    ' Colab':[\"Ctrl + Enter\",\"Shift + Enter\",\"Alt+Enter\"],\n",
        "                    ' Jupyter':[\"-\",\"-\",\"-\"]},\n",
        "                   columns=['Actions',' Colab',' Jupyter'],\n",
        "                   index = [8, 9,10])\n",
        "\n",
        "\n",
        "\n",
        "\n",
        "df3=pd.concat([df,df2])\n",
        "print(df3)\n",
        "display(df3)\n",
        "df3\n",
        "\n",
        "#a-ha moment: when there was no space in Colab or Jupyter it was giving multiple columns\n",
        "# importance of having exact column names\n"
      ],
      "execution_count": 69,
      "outputs": [
        {
          "output_type": "stream",
          "text": [
            "                         Actions          Colab        Jupyter          Colab\n",
            "0        show keyboard shortcuts   Ctrl/Cmd M H             H             NaN\n",
            "1         Insert code cell above   Ctrl/Cmd M A              A            NaN\n",
            "2         Insert code cell below   Ctrl/Cmd M B              B            NaN\n",
            "3          Delete cell/selection   Ctrl/Cmd M D             DD            NaN\n",
            "4            Interrupt execution   Ctrl/Cmd M I             II            NaN\n",
            "5           Convert to code cell   Ctrl/Cmd M Y              Y            NaN\n",
            "6           Convert to text cell   Ctrl/Cmd M M              M            NaN\n",
            "7                Split at cursor   Ctrl/Cmd M -   Ctrl Shift -            NaN\n",
            "8                       Run Cell            NaN              -   Ctrl + Enter\n",
            "9      Run and Move to Next Cell            NaN              -  Shift + Enter\n",
            "10  Run and Insert New Code Cell            NaN              -      Alt+Enter\n"
          ],
          "name": "stdout"
        },
        {
          "output_type": "display_data",
          "data": {
            "text/html": [
              "<div>\n",
              "<style scoped>\n",
              "    .dataframe tbody tr th:only-of-type {\n",
              "        vertical-align: middle;\n",
              "    }\n",
              "\n",
              "    .dataframe tbody tr th {\n",
              "        vertical-align: top;\n",
              "    }\n",
              "\n",
              "    .dataframe thead th {\n",
              "        text-align: right;\n",
              "    }\n",
              "</style>\n",
              "<table border=\"1\" class=\"dataframe\">\n",
              "  <thead>\n",
              "    <tr style=\"text-align: right;\">\n",
              "      <th></th>\n",
              "      <th>Actions</th>\n",
              "      <th>Colab</th>\n",
              "      <th>Jupyter</th>\n",
              "      <th>Colab</th>\n",
              "    </tr>\n",
              "  </thead>\n",
              "  <tbody>\n",
              "    <tr>\n",
              "      <th>0</th>\n",
              "      <td>show keyboard shortcuts</td>\n",
              "      <td>Ctrl/Cmd M H</td>\n",
              "      <td>H</td>\n",
              "      <td>NaN</td>\n",
              "    </tr>\n",
              "    <tr>\n",
              "      <th>1</th>\n",
              "      <td>Insert code cell above</td>\n",
              "      <td>Ctrl/Cmd M A</td>\n",
              "      <td>A</td>\n",
              "      <td>NaN</td>\n",
              "    </tr>\n",
              "    <tr>\n",
              "      <th>2</th>\n",
              "      <td>Insert code cell below</td>\n",
              "      <td>Ctrl/Cmd M B</td>\n",
              "      <td>B</td>\n",
              "      <td>NaN</td>\n",
              "    </tr>\n",
              "    <tr>\n",
              "      <th>3</th>\n",
              "      <td>Delete cell/selection</td>\n",
              "      <td>Ctrl/Cmd M D</td>\n",
              "      <td>DD</td>\n",
              "      <td>NaN</td>\n",
              "    </tr>\n",
              "    <tr>\n",
              "      <th>4</th>\n",
              "      <td>Interrupt execution</td>\n",
              "      <td>Ctrl/Cmd M I</td>\n",
              "      <td>II</td>\n",
              "      <td>NaN</td>\n",
              "    </tr>\n",
              "    <tr>\n",
              "      <th>5</th>\n",
              "      <td>Convert to code cell</td>\n",
              "      <td>Ctrl/Cmd M Y</td>\n",
              "      <td>Y</td>\n",
              "      <td>NaN</td>\n",
              "    </tr>\n",
              "    <tr>\n",
              "      <th>6</th>\n",
              "      <td>Convert to text cell</td>\n",
              "      <td>Ctrl/Cmd M M</td>\n",
              "      <td>M</td>\n",
              "      <td>NaN</td>\n",
              "    </tr>\n",
              "    <tr>\n",
              "      <th>7</th>\n",
              "      <td>Split at cursor</td>\n",
              "      <td>Ctrl/Cmd M -</td>\n",
              "      <td>Ctrl Shift -</td>\n",
              "      <td>NaN</td>\n",
              "    </tr>\n",
              "    <tr>\n",
              "      <th>8</th>\n",
              "      <td>Run Cell</td>\n",
              "      <td>NaN</td>\n",
              "      <td>-</td>\n",
              "      <td>Ctrl + Enter</td>\n",
              "    </tr>\n",
              "    <tr>\n",
              "      <th>9</th>\n",
              "      <td>Run and Move to Next Cell</td>\n",
              "      <td>NaN</td>\n",
              "      <td>-</td>\n",
              "      <td>Shift + Enter</td>\n",
              "    </tr>\n",
              "    <tr>\n",
              "      <th>10</th>\n",
              "      <td>Run and Insert New Code Cell</td>\n",
              "      <td>NaN</td>\n",
              "      <td>-</td>\n",
              "      <td>Alt+Enter</td>\n",
              "    </tr>\n",
              "  </tbody>\n",
              "</table>\n",
              "</div>"
            ],
            "text/plain": [
              "                         Actions          Colab        Jupyter          Colab\n",
              "0        show keyboard shortcuts   Ctrl/Cmd M H             H             NaN\n",
              "1         Insert code cell above   Ctrl/Cmd M A              A            NaN\n",
              "2         Insert code cell below   Ctrl/Cmd M B              B            NaN\n",
              "3          Delete cell/selection   Ctrl/Cmd M D             DD            NaN\n",
              "4            Interrupt execution   Ctrl/Cmd M I             II            NaN\n",
              "5           Convert to code cell   Ctrl/Cmd M Y              Y            NaN\n",
              "6           Convert to text cell   Ctrl/Cmd M M              M            NaN\n",
              "7                Split at cursor   Ctrl/Cmd M -   Ctrl Shift -            NaN\n",
              "8                       Run Cell            NaN              -   Ctrl + Enter\n",
              "9      Run and Move to Next Cell            NaN              -  Shift + Enter\n",
              "10  Run and Insert New Code Cell            NaN              -      Alt+Enter"
            ]
          },
          "metadata": {
            "tags": []
          }
        },
        {
          "output_type": "execute_result",
          "data": {
            "text/html": [
              "<div>\n",
              "<style scoped>\n",
              "    .dataframe tbody tr th:only-of-type {\n",
              "        vertical-align: middle;\n",
              "    }\n",
              "\n",
              "    .dataframe tbody tr th {\n",
              "        vertical-align: top;\n",
              "    }\n",
              "\n",
              "    .dataframe thead th {\n",
              "        text-align: right;\n",
              "    }\n",
              "</style>\n",
              "<table border=\"1\" class=\"dataframe\">\n",
              "  <thead>\n",
              "    <tr style=\"text-align: right;\">\n",
              "      <th></th>\n",
              "      <th>Actions</th>\n",
              "      <th>Colab</th>\n",
              "      <th>Jupyter</th>\n",
              "      <th>Colab</th>\n",
              "    </tr>\n",
              "  </thead>\n",
              "  <tbody>\n",
              "    <tr>\n",
              "      <th>0</th>\n",
              "      <td>show keyboard shortcuts</td>\n",
              "      <td>Ctrl/Cmd M H</td>\n",
              "      <td>H</td>\n",
              "      <td>NaN</td>\n",
              "    </tr>\n",
              "    <tr>\n",
              "      <th>1</th>\n",
              "      <td>Insert code cell above</td>\n",
              "      <td>Ctrl/Cmd M A</td>\n",
              "      <td>A</td>\n",
              "      <td>NaN</td>\n",
              "    </tr>\n",
              "    <tr>\n",
              "      <th>2</th>\n",
              "      <td>Insert code cell below</td>\n",
              "      <td>Ctrl/Cmd M B</td>\n",
              "      <td>B</td>\n",
              "      <td>NaN</td>\n",
              "    </tr>\n",
              "    <tr>\n",
              "      <th>3</th>\n",
              "      <td>Delete cell/selection</td>\n",
              "      <td>Ctrl/Cmd M D</td>\n",
              "      <td>DD</td>\n",
              "      <td>NaN</td>\n",
              "    </tr>\n",
              "    <tr>\n",
              "      <th>4</th>\n",
              "      <td>Interrupt execution</td>\n",
              "      <td>Ctrl/Cmd M I</td>\n",
              "      <td>II</td>\n",
              "      <td>NaN</td>\n",
              "    </tr>\n",
              "    <tr>\n",
              "      <th>5</th>\n",
              "      <td>Convert to code cell</td>\n",
              "      <td>Ctrl/Cmd M Y</td>\n",
              "      <td>Y</td>\n",
              "      <td>NaN</td>\n",
              "    </tr>\n",
              "    <tr>\n",
              "      <th>6</th>\n",
              "      <td>Convert to text cell</td>\n",
              "      <td>Ctrl/Cmd M M</td>\n",
              "      <td>M</td>\n",
              "      <td>NaN</td>\n",
              "    </tr>\n",
              "    <tr>\n",
              "      <th>7</th>\n",
              "      <td>Split at cursor</td>\n",
              "      <td>Ctrl/Cmd M -</td>\n",
              "      <td>Ctrl Shift -</td>\n",
              "      <td>NaN</td>\n",
              "    </tr>\n",
              "    <tr>\n",
              "      <th>8</th>\n",
              "      <td>Run Cell</td>\n",
              "      <td>NaN</td>\n",
              "      <td>-</td>\n",
              "      <td>Ctrl + Enter</td>\n",
              "    </tr>\n",
              "    <tr>\n",
              "      <th>9</th>\n",
              "      <td>Run and Move to Next Cell</td>\n",
              "      <td>NaN</td>\n",
              "      <td>-</td>\n",
              "      <td>Shift + Enter</td>\n",
              "    </tr>\n",
              "    <tr>\n",
              "      <th>10</th>\n",
              "      <td>Run and Insert New Code Cell</td>\n",
              "      <td>NaN</td>\n",
              "      <td>-</td>\n",
              "      <td>Alt+Enter</td>\n",
              "    </tr>\n",
              "  </tbody>\n",
              "</table>\n",
              "</div>"
            ],
            "text/plain": [
              "                         Actions          Colab        Jupyter          Colab\n",
              "0        show keyboard shortcuts   Ctrl/Cmd M H             H             NaN\n",
              "1         Insert code cell above   Ctrl/Cmd M A              A            NaN\n",
              "2         Insert code cell below   Ctrl/Cmd M B              B            NaN\n",
              "3          Delete cell/selection   Ctrl/Cmd M D             DD            NaN\n",
              "4            Interrupt execution   Ctrl/Cmd M I             II            NaN\n",
              "5           Convert to code cell   Ctrl/Cmd M Y              Y            NaN\n",
              "6           Convert to text cell   Ctrl/Cmd M M              M            NaN\n",
              "7                Split at cursor   Ctrl/Cmd M -   Ctrl Shift -            NaN\n",
              "8                       Run Cell            NaN              -   Ctrl + Enter\n",
              "9      Run and Move to Next Cell            NaN              -  Shift + Enter\n",
              "10  Run and Insert New Code Cell            NaN              -      Alt+Enter"
            ]
          },
          "metadata": {
            "tags": []
          },
          "execution_count": 69
        }
      ]
    },
    {
      "cell_type": "code",
      "metadata": {
        "id": "7W_2RYqejjU8",
        "colab_type": "code",
        "colab": {
          "base_uri": "https://localhost:8080/",
          "height": 301
        },
        "outputId": "e654dd30-c67a-4084-da09-3e0bb9eb59cc"
      },
      "source": [
        "#Convert this so you can have an extra column\n",
        "\n",
        "\n",
        "#https://www.youtube.com/watch?v=4buL9Rk8bXM\n",
        "#^ ways to get column names\n",
        "\n",
        "#Method 1 of 6 \n",
        "#.columns\n",
        "print(df.columns)\n",
        "\n",
        "#Method 2 of 6\n",
        "#Column Names .keys()\n",
        "print(df.keys())\n",
        "\n",
        "#method 3 of 6\n",
        "#Column Names for loop\n",
        "for col in df.columns:\n",
        "  print(col)\n",
        "\n",
        "#Method 4 of 6\n",
        "#List of column Names\n",
        "print(list(df.columns))\n",
        "\n",
        "#Method 5 of 6\n",
        "#Column Values to a List\n",
        "print(df.columns.values.tolist)\n",
        "\n",
        "#Method 6 of 6\n",
        "print(df.values)\n",
        "sorted(df)"
      ],
      "execution_count": 71,
      "outputs": [
        {
          "output_type": "stream",
          "text": [
            "Index(['Actions', ' Colab', ' Jupyter'], dtype='object')\n",
            "Index(['Actions', ' Colab', ' Jupyter'], dtype='object')\n",
            "Actions\n",
            " Colab\n",
            " Jupyter\n",
            "['Actions', ' Colab', ' Jupyter']\n",
            "<built-in method tolist of numpy.ndarray object at 0x7ff1d22606c0>\n",
            "[['show keyboard shortcuts' ' Ctrl/Cmd M H' ' H ']\n",
            " ['Insert code cell above' ' Ctrl/Cmd M A' ' A']\n",
            " ['Insert code cell below' ' Ctrl/Cmd M B' ' B']\n",
            " ['Delete cell/selection' ' Ctrl/Cmd M D' ' DD']\n",
            " ['Interrupt execution' ' Ctrl/Cmd M I' ' II']\n",
            " ['Convert to code cell' ' Ctrl/Cmd M Y' ' Y']\n",
            " ['Convert to text cell' ' Ctrl/Cmd M M' ' M']\n",
            " ['Split at cursor' ' Ctrl/Cmd M -' ' Ctrl Shift -']]\n"
          ],
          "name": "stdout"
        },
        {
          "output_type": "execute_result",
          "data": {
            "text/plain": [
              "[' Colab', ' Jupyter', 'Actions']"
            ]
          },
          "metadata": {
            "tags": []
          },
          "execution_count": 71
        }
      ]
    },
    {
      "cell_type": "code",
      "metadata": {
        "id": "CEyHj1dl7WxB",
        "colab_type": "code",
        "colab": {
          "base_uri": "https://localhost:8080/",
          "height": 53
        },
        "outputId": "1a3b4c17-3bb0-46bf-aeb6-d67690ab6d9a"
      },
      "source": [
        "#Remove spaces in the columns\n",
        "\n",
        "df.rename(columns={\" Colab\":\"Colab\"})\n",
        "print(df.columns)\n",
        "df.rename(columns={\" Colab\":\"Colab\"},inplace=True)\n",
        "print(df.columns)\n",
        "df.rename(columns={\" Colab\":\"Colab\",\" Jupyter\":\"Jupyter\"},inplace=True)\n"
      ],
      "execution_count": 73,
      "outputs": [
        {
          "output_type": "stream",
          "text": [
            "Index(['Actions', 'Colab', ' Jupyter'], dtype='object')\n",
            "Index(['Actions', 'Colab', ' Jupyter'], dtype='object')\n"
          ],
          "name": "stdout"
        }
      ]
    },
    {
      "cell_type": "code",
      "metadata": {
        "id": "fTnTtoVOSqz-",
        "colab_type": "code",
        "colab": {}
      },
      "source": [
        ""
      ],
      "execution_count": 0,
      "outputs": []
    }
  ]
}